{
 "cells": [
  {
   "cell_type": "markdown",
   "id": "5adc154f",
   "metadata": {},
   "source": [
    "### Imports"
   ]
  },
  {
   "cell_type": "code",
   "execution_count": 1,
   "id": "d305f77f",
   "metadata": {},
   "outputs": [],
   "source": [
    "from Bio import Entrez\n",
    "\n",
    "import pandas as pd\n",
    "import numpy as np\n",
    "import time\n",
    "import csv\n",
    "import json\n",
    "import re\n",
    "import time\n",
    "from dicttoxml import dicttoxml\n",
    "from xml.dom.minidom import parseString\n",
    "import xml.etree.ElementTree as ET"
   ]
  },
  {
   "cell_type": "code",
   "execution_count": 2,
   "id": "89b43f63",
   "metadata": {},
   "outputs": [],
   "source": [
    "%run PubMed_Classes.ipynb"
   ]
  },
  {
   "cell_type": "markdown",
   "id": "7489994c",
   "metadata": {},
   "source": [
    "### Run Script"
   ]
  },
  {
   "cell_type": "code",
   "execution_count": 3,
   "id": "669394fc",
   "metadata": {},
   "outputs": [],
   "source": [
    "if __name__ == '__main__':\n",
    "    Scrape = ScrapePubMed()\n",
    "    Clean = CleanData()"
   ]
  },
  {
   "cell_type": "markdown",
   "id": "35de3fbf",
   "metadata": {},
   "source": [
    "### Grab Data for Loading"
   ]
  },
  {
   "cell_type": "code",
   "execution_count": 4,
   "id": "a42dd1a1",
   "metadata": {
    "scrolled": true
   },
   "outputs": [],
   "source": [
    "df = Clean.final_df"
   ]
  },
  {
   "cell_type": "code",
   "execution_count": 5,
   "id": "26a3ca19",
   "metadata": {},
   "outputs": [],
   "source": [
    "filepath = None\n",
    "df.to_csv(filepath)"
   ]
  }
 ],
 "metadata": {
  "kernelspec": {
   "display_name": "Python 3",
   "language": "python",
   "name": "python3"
  },
  "language_info": {
   "codemirror_mode": {
    "name": "ipython",
    "version": 3
   },
   "file_extension": ".py",
   "mimetype": "text/x-python",
   "name": "python",
   "nbconvert_exporter": "python",
   "pygments_lexer": "ipython3",
   "version": "3.11.0"
  },
  "vscode": {
   "interpreter": {
    "hash": "16d48ab8815dff4b6f48d0f416a4684b0cce89c2e7252ff1f2f3c45532505d42"
   }
  }
 },
 "nbformat": 4,
 "nbformat_minor": 5
}
